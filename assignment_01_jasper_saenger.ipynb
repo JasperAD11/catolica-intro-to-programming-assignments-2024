{
 "cells": [
  {
   "cell_type": "markdown",
   "metadata": {},
   "source": [
    "# Introduction to Programming\n",
    "## Assignment 1"
   ]
  },
  {
   "cell_type": "markdown",
   "metadata": {},
   "source": [
    "<a id=\"instructions\"></a>\n",
    "### Instructions\n",
    "\n",
    "Solve the exercises below **using only the concepts seen in class up to and including Chapter 4**. No partial credit is given for solutions using concepts we haven't covered in these chapters.\n",
    "\n",
    "Do not forget to test your code for multiple values of your input: if you are asked to write code that takes *some number*, do not just try one number, but several (e.g. an integer, a fractional number, and a negative number).\n",
    "\n",
    "In case of a doubt in the instructions of the exercises, ask in class.\n",
    "\n",
    "Return your work by uploading it to Moodle.\n",
    "\n",
    "I hope you enjoy these exercises.\n",
    "\n",
    "---"
   ]
  },
  {
   "cell_type": "markdown",
   "metadata": {},
   "source": [
    "### Exercise 1: Variable initilization, types and casting\n",
    "\n",
    "1. Create variables.\n",
    "\n",
    "    - Create one varible for each of the following types: `int`, `float`, `str`, `bool`, `tuple`, `list`, `dict`, `set`.\n",
    "\n",
    "1. For each variable you have created, check the type using either `type()` or `isinstance()`.\n",
    "\n",
    "    - You need to use each function at least once (but you don't have to use both for every variable).\n",
    "\n",
    "1. Bring everything together.\n",
    "\n",
    "    - Create a list to bring together all the variables you have created (i.e. the variables previously created are the elements of this new list).\n",
    "\n",
    "    - Confirm that your code achieves what you want by printing this new variable and its type. "
   ]
  },
  {
   "cell_type": "code",
   "execution_count": 230,
   "metadata": {},
   "outputs": [],
   "source": [
    "#1 \n",
    "\n",
    "some_int = 2\n",
    "some_float = 34.5\n",
    "some_str = \"September Snooze\"\n",
    "some_bool = True\n",
    "some_tpl = (3, 35.6, \"September Snooze\", False)\n",
    "some_list = [6, 41.0, \"October Awakening\", True]\n",
    "some_dict = {1: 5, 2: 5000, 3: \"Christmas Rejoice\", 4: True}\n",
    "some_set = {55, 64, 65}"
   ]
  },
  {
   "cell_type": "code",
   "execution_count": 231,
   "metadata": {},
   "outputs": [
    {
     "name": "stdout",
     "output_type": "stream",
     "text": [
      "<class 'int'>\n",
      "<class 'float'>\n",
      "<class 'str'>\n",
      "<class 'bool'>\n",
      "<class 'tuple'>\n",
      "<class 'list'>\n",
      "<class 'dict'>\n",
      "<class 'set'>\n"
     ]
    }
   ],
   "source": [
    "#2 \n",
    "\n",
    "print(type(some_int))\n",
    "print(type(some_float))\n",
    "print(type(some_str))\n",
    "print(type(some_bool))\n",
    "print(type(some_tpl))\n",
    "print(type(some_list))\n",
    "print(type(some_dict))\n",
    "print(type(some_set))"
   ]
  },
  {
   "cell_type": "code",
   "execution_count": 4,
   "metadata": {},
   "outputs": [
    {
     "name": "stdout",
     "output_type": "stream",
     "text": [
      "[2, 34.5, 'September Snooze', True, (3, 35.6, 'September Snooze', False), [6, 41.0, 'October Awakening', True], {1: 5, 2: 5000, 3: 'Christmas Rejoice', 4: True}, {64, 65, 55}]\n",
      "<class 'list'>\n"
     ]
    }
   ],
   "source": [
    "#3 \n",
    "\n",
    "combined_list = [some_int, some_float, some_str, some_bool, some_tpl, some_list, some_dict, some_set]\n",
    "\n",
    "print(combined_list)  #check if this is the correct answer\n",
    "print(type(combined_list)"
   ]
  },
  {
   "cell_type": "markdown",
   "metadata": {},
   "source": [
    "### Exercise 2: Basic conditional \n",
    "\n",
    "Define a variable `x`. Then write a statement to only print its value if `x` is a numeric variable. Watch out for booleans."
   ]
  },
  {
   "cell_type": "code",
   "execution_count": 7,
   "metadata": {},
   "outputs": [
    {
     "name": "stdout",
     "output_type": "stream",
     "text": [
      "999\n"
     ]
    }
   ],
   "source": [
    "x = 999\n",
    "\n",
    "if isinstance(x, (int, float)) and not isinstance(x, (bool)):  #True and False would get printed if I dont include second isinstance combined with and not\n",
    "    print(x)"
   ]
  },
  {
   "cell_type": "markdown",
   "metadata": {},
   "source": [
    "### Exercise 3: Advanced conditional\n",
    "\n",
    "1. Define a variable `x`. \n",
    "\n",
    "1. If the variable is a string, print a message saying \"x should not be a string\". \n",
    "\n",
    "1. If the variable is not a string, then perform the following, using a nested conditional statement and organizing `if`, `elif`, and `else` as you find most appropriate.\n",
    "\n",
    "    - If `x` has no fractional part, print \"\\<value of x\\> is an integer.\".\n",
    "    \n",
    "    - If `x` has no fractional part and divisible by 5 only, print \"\\<value of x\\> is an integer and divisible by 5 only.\".\n",
    "\n",
    "    - If `x` has no fractional part and is divisible by both 5 and 7, print \"\\<value of x\\> is an integer and divisible by both 5 and 7.\".\n",
    " \n",
    "    - If `x` has a fractional part, do the following:\n",
    "    \n",
    "        - If the fractional part is only one decimal position (e.g. 1.2, 3.8, ...), print \"\\<value of x\\> is fractional with only 1 decimal position.\". \n",
    "        \n",
    "        - Otherwise print \"\\<value of x\\> is fractional with more than 1 decimal position.\".\n",
    " \n",
    "\n",
    "In the above, \\<value of x\\> means that you want to print the current value of `x`.\n",
    "Use `+` in your print statements.\n",
    "\n",
    "In testing your code, you can ignore all data types that are not str, int or float."
   ]
  },
  {
   "cell_type": "code",
   "execution_count": 76,
   "metadata": {},
   "outputs": [],
   "source": [
    "#1\n",
    "\n",
    "x = 35.123"
   ]
  },
  {
   "cell_type": "code",
   "execution_count": 77,
   "metadata": {},
   "outputs": [],
   "source": [
    "#2\n",
    "\n",
    "if isinstance(x, str):\n",
    "    print(\"x should not be a string\")"
   ]
  },
  {
   "cell_type": "code",
   "execution_count": 78,
   "metadata": {},
   "outputs": [
    {
     "name": "stdout",
     "output_type": "stream",
     "text": [
      "35.123 is fractional with more than 1 decimal position.\n"
     ]
    }
   ],
   "source": [
    "#3 \n",
    "\n",
    "if type(x) != str:\n",
    "    if type(x) == float and not type(x) == int:\n",
    "        if x*10 % 1 == 0:\n",
    "            print(str(x) + \" is fractional with only 1 decimal position.\")\n",
    "        elif x*10 % 1 > 0:\n",
    "            print(str(x) + \" is fractional with more than 1 decimal position.\")\n",
    "    elif x % 5 == 0 and x % 7 == 0:\n",
    "        print(str(x) + \" is an integer and divisble by 5 and 7 only\")\n",
    "    elif x % 5 == 0:\n",
    "        print(str(x) + \" is an integer and divisble by 5 only\")\n",
    "    elif type(x) == int:\n",
    "        print(str(x) + \" is an integer\")\n"
   ]
  },
  {
   "cell_type": "markdown",
   "metadata": {},
   "source": [
    "### Exercise 4: `for` loop\n",
    "\n",
    "1. Create a list containing 10 different strings. \n",
    "\n",
    "1. Loop over each string. Print each string and, separated by a tab, a boolean indicating whether the string starts with a letter that is greater than `\"m\"` based on Python's lexicographic ordering.\n",
    "\n",
    "1. Again loop over each string and only print the first two letters."
   ]
  },
  {
   "cell_type": "code",
   "execution_count": 103,
   "metadata": {},
   "outputs": [
    {
     "name": "stdout",
     "output_type": "stream",
     "text": [
      "BMW\tFalse\n",
      "Algarve\tFalse\n",
      "race\tTrue\n",
      "ginger\tFalse\n",
      "family\tFalse\n",
      "NFL\tFalse\n",
      "ease\tFalse\n",
      "olives\tTrue\n",
      "curtain\tFalse\n",
      "bless\tFalse\n"
     ]
    }
   ],
   "source": [
    "#1\n",
    "\n",
    "random_list = [\"BMW\", \"Algarve\", \"race\", \"ginger\", \"family\", \"NFL\", \"ease\", \"olives\", \"curtain\", \"bless\"]\n",
    "\n",
    "#2\n",
    "\n",
    "for diff_strs in random_list:\n",
    "    letter_1_above_m = diff_strs[0] > \"m\"\n",
    "    print(diff_strs + \"\\t\" + str(letter_1_above_m))\n"
   ]
  },
  {
   "cell_type": "code",
   "execution_count": 104,
   "metadata": {},
   "outputs": [
    {
     "name": "stdout",
     "output_type": "stream",
     "text": [
      "BM\n",
      "Al\n",
      "ra\n",
      "gi\n",
      "fa\n",
      "NF\n",
      "ea\n",
      "ol\n",
      "cu\n",
      "bl\n"
     ]
    }
   ],
   "source": [
    "#3\n",
    "\n",
    "for diff_strs in random_list:\n",
    "    print(str(diff_strs[:2]))"
   ]
  },
  {
   "cell_type": "markdown",
   "metadata": {},
   "source": [
    "### Exercise 5: `while` loop\n",
    "\n",
    "Count down from 100 to 0 or less by doing a \"large\" decresing steps of -5 and then a \"small\" increasing step of +3.\n",
    "\n",
    "1. First, your code simply performs the countdown by iteratively updating and printing the value of some variable `count_v`, initialized at 100. \n",
    "\n",
    "    - Note that the behavior must change from one iteration to the next: in the even steps, your code needs to decrease `count_v` by 5; in the odd steps, it increases `count_v` by 3. \n",
    "\n",
    "1. Now, extend your code so that it stores all the values taken by `count_v` in a list `output`. \n",
    "    \n",
    "    - The list must include the starting value 100 and the final value. After the loop is done, print the list. \n",
    "    \n",
    "Hint: the final two values are 4 and -1."
   ]
  },
  {
   "cell_type": "code",
   "execution_count": 110,
   "metadata": {},
   "outputs": [
    {
     "name": "stdout",
     "output_type": "stream",
     "text": [
      "95\n",
      "98\n",
      "93\n",
      "96\n",
      "91\n",
      "94\n",
      "89\n",
      "92\n",
      "87\n",
      "90\n",
      "85\n",
      "88\n",
      "83\n",
      "86\n",
      "81\n",
      "84\n",
      "79\n",
      "82\n",
      "77\n",
      "80\n",
      "75\n",
      "78\n",
      "73\n",
      "76\n",
      "71\n",
      "74\n",
      "69\n",
      "72\n",
      "67\n",
      "70\n",
      "65\n",
      "68\n",
      "63\n",
      "66\n",
      "61\n",
      "64\n",
      "59\n",
      "62\n",
      "57\n",
      "60\n",
      "55\n",
      "58\n",
      "53\n",
      "56\n",
      "51\n",
      "54\n",
      "49\n",
      "52\n",
      "47\n",
      "50\n",
      "45\n",
      "48\n",
      "43\n",
      "46\n",
      "41\n",
      "44\n",
      "39\n",
      "42\n",
      "37\n",
      "40\n",
      "35\n",
      "38\n",
      "33\n",
      "36\n",
      "31\n",
      "34\n",
      "29\n",
      "32\n",
      "27\n",
      "30\n",
      "25\n",
      "28\n",
      "23\n",
      "26\n",
      "21\n",
      "24\n",
      "19\n",
      "22\n",
      "17\n",
      "20\n",
      "15\n",
      "18\n",
      "13\n",
      "16\n",
      "11\n",
      "14\n",
      "9\n",
      "12\n",
      "7\n",
      "10\n",
      "5\n",
      "8\n",
      "3\n",
      "6\n",
      "1\n",
      "4\n",
      "-1\n"
     ]
    }
   ],
   "source": [
    "#1\n",
    "\n",
    "count_v = 100\n",
    "\n",
    "while count_v >= 0:\n",
    "    if count_v % 2 == 0:\n",
    "        count_v -= 5\n",
    "    elif count_v % 2 != 0:\n",
    "        count_v += 3\n",
    "    print(count_v)\n"
   ]
  },
  {
   "cell_type": "code",
   "execution_count": 113,
   "metadata": {},
   "outputs": [
    {
     "name": "stdout",
     "output_type": "stream",
     "text": [
      "[100, 95, 98, 93, 96, 91, 94, 89, 92, 87, 90, 85, 88, 83, 86, 81, 84, 79, 82, 77, 80, 75, 78, 73, 76, 71, 74, 69, 72, 67, 70, 65, 68, 63, 66, 61, 64, 59, 62, 57, 60, 55, 58, 53, 56, 51, 54, 49, 52, 47, 50, 45, 48, 43, 46, 41, 44, 39, 42, 37, 40, 35, 38, 33, 36, 31, 34, 29, 32, 27, 30, 25, 28, 23, 26, 21, 24, 19, 22, 17, 20, 15, 18, 13, 16, 11, 14, 9, 12, 7, 10, 5, 8, 3, 6, 1, 4, -1]\n"
     ]
    }
   ],
   "source": [
    "#2 \n",
    "\n",
    "output = [100]\n",
    "count_v = 100\n",
    "\n",
    "while count_v >= 0:\n",
    "    if count_v % 2 == 0:\n",
    "        count_v -= 5\n",
    "    elif count_v % 2 != 0:\n",
    "        count_v += 3\n",
    "    output.append(count_v)\n",
    "print(output)"
   ]
  },
  {
   "cell_type": "code",
   "execution_count": 115,
   "metadata": {},
   "outputs": [
    {
     "data": {
      "text/plain": [
       "-1"
      ]
     },
     "execution_count": 115,
     "metadata": {},
     "output_type": "execute_result"
    }
   ],
   "source": [
    "#checking if last value is -1 still\n",
    "\n",
    "output[-1]"
   ]
  },
  {
   "cell_type": "markdown",
   "metadata": {},
   "source": [
    "### Exercise 6: `for` and conditional vs `while`\n",
    "\n",
    "It is important to understand when we need a `for` loop with a nested conditional and when we want to use a `while` loop instead.\n",
    "We use the `for` loop with a nested conditional when we want to evaluate the condition for every element in a data structure.\n",
    "We instead use the `while` loop when we don't know how many iterations we need to run: we will run iterations till some condition evaluates to `False`.\n",
    "\n",
    "To solidify these ideas, do the following:\n",
    "\n",
    "1. `for` loop and conditional \n",
    "\n",
    "    - Consider the object `some_list` below, containing either integers or strings. Loop over each element and only print the integers.\n",
    "\n",
    "1. `while` loop\n",
    "\n",
    "    - Now write a `while` loop to try to perform this same activity. Specifically: \n",
    "    \n",
    "        - The `while` uses a variable `index` to iteratively consider each element in `some_list`. Initialize `index` to zero.\n",
    "\n",
    "        - In the `while` loop condition, slice `some_list` using `index` and check if the element being considered is an integer.\n",
    "\n",
    "        - The code inside the `while` loop prints the element being considered and then increases `index` by 1.\n",
    "\n",
    "1. Run both loops and compare their outputs. They should be different: the `while` loop does not consider 32 and 68. Concisely explain why this is happening in a separate markdown cell."
   ]
  },
  {
   "cell_type": "code",
   "execution_count": 1,
   "metadata": {},
   "outputs": [],
   "source": [
    "some_list =  [1, -1, -3, 5, 7, -11, -23, -9, \"a\", \"bc\", 32, 68, \"da\", \"yet\", \"solutions\", \"18\", \"assignment\", \"I2P\", \"palma\", \"domingo\"]"
   ]
  },
  {
   "cell_type": "code",
   "execution_count": 3,
   "metadata": {},
   "outputs": [
    {
     "name": "stdout",
     "output_type": "stream",
     "text": [
      "1\n",
      "-1\n",
      "-3\n",
      "5\n",
      "7\n",
      "-11\n",
      "-23\n",
      "-9\n",
      "32\n",
      "68\n"
     ]
    }
   ],
   "source": [
    "#1\n",
    "\n",
    "for ints_or_strs in some_list:\n",
    "    if type(ints_or_strs) == int:\n",
    "        print(ints_or_strs)"
   ]
  },
  {
   "cell_type": "code",
   "execution_count": 18,
   "metadata": {},
   "outputs": [
    {
     "name": "stdout",
     "output_type": "stream",
     "text": [
      "1\n",
      "-1\n",
      "-3\n",
      "5\n",
      "7\n",
      "-11\n",
      "-23\n",
      "-9\n"
     ]
    }
   ],
   "source": [
    "#2 \n",
    "index = 0\n",
    "\n",
    "while type(some_list[index]) == int:\n",
    "    print(some_list[index])\n",
    "    index += 1\n"
   ]
  },
  {
   "cell_type": "markdown",
   "metadata": {},
   "source": [
    "The last two integers of this list (32 & 68) are not displaying in the while loop versus the for loop because the while loop iterates over each value in the list but stops once the condition of the value in the list being an integer is not satisfied, which is when the while loop hits the string \"a\" (index 8 of the list). Values 32 and 68 come afterwards in the list and are thus not reached by the while loop."
   ]
  },
  {
   "cell_type": "markdown",
   "metadata": {},
   "source": [
    "### Exercise 7: Methods\n",
    "\n",
    "Create a tuple, a list, a dictionary, and a set.\n",
    "For each of these data structures, showcase the use of two methods.\n",
    "\n",
    "All methods must be different: you cannot use the same method twice.\n",
    "If the method performs modification, print the object before and after calling the method."
   ]
  },
  {
   "cell_type": "code",
   "execution_count": 92,
   "metadata": {},
   "outputs": [
    {
     "name": "stdout",
     "output_type": "stream",
     "text": [
      "1\n",
      "0\n"
     ]
    }
   ],
   "source": [
    "# creation of data four data structures\n",
    "\n",
    "another_tuple = (1, 2, 3)\n",
    "another_list = [1, 2, 3]\n",
    "another_dict = {1 : \"1\", 2: \"2\", 3: \"3\"}\n",
    "another_set = {1, 2, 3}\n",
    "\n",
    "# two tuple methods\n",
    "\n",
    "print(another_tuple.count(2))\n",
    "print(another_tuple.index(1))"
   ]
  },
  {
   "cell_type": "code",
   "execution_count": 81,
   "metadata": {},
   "outputs": [
    {
     "name": "stdout",
     "output_type": "stream",
     "text": [
      "[1, 2, 3]\n",
      "[1, 2, 3, 'Water']\n",
      "[1, 2, 3, 'Water', 'oil', 'vinegar']\n"
     ]
    }
   ],
   "source": [
    "# two list methods\n",
    "\n",
    "print(another_list)\n",
    "another_list.append(\"Water\")\n",
    "print(another_list)\n",
    "\n",
    "another_list.extend([\"oil\", \"vinegar\"])\n",
    "print(another_list)"
   ]
  },
  {
   "cell_type": "code",
   "execution_count": 97,
   "metadata": {},
   "outputs": [
    {
     "name": "stdout",
     "output_type": "stream",
     "text": [
      "{1: '1', 2: '2', 3: '3'}\n",
      "dict_keys([1, 2, 3])\n",
      "dict_values(['1', '2', '3'])\n"
     ]
    }
   ],
   "source": [
    "# two dictionary methods\n",
    "\n",
    "print(another_dict)\n",
    "print(another_dict.keys())\n",
    "print(another_dict.values())"
   ]
  },
  {
   "cell_type": "code",
   "execution_count": 102,
   "metadata": {},
   "outputs": [
    {
     "name": "stdout",
     "output_type": "stream",
     "text": [
      "{3}\n",
      "{1, 2, 3, 4, 5}\n"
     ]
    }
   ],
   "source": [
    "# two set methods\n",
    "\n",
    "another_set_Y = {3, 4, 5}\n",
    "print(another_set.intersection(another_set_Y))\n",
    "\n",
    "print(another_set.union(another_set_Y))"
   ]
  },
  {
   "cell_type": "markdown",
   "metadata": {},
   "source": [
    "### Exercise 8: Sum of List\n",
    "\n",
    "Consider the list `n_list = [3.0, 4, 9.1, 11, 0.2, 1.4, 31, 7]`. \n",
    "Now, calculate the sum of:\n",
    "\n",
    "1. All the elements in the list.\n",
    "\n",
    "1. The elements from the third to the second-to-last included, using a `for` loop and a slice determined with a positive and a negative index.\n",
    "\n",
    "1. The first 3 elements, using a counter and `while` loop.\n",
    "\n",
    "1. The integers.\n",
    "\n",
    "1. The odd integers.\n",
    "\n",
    "1. The fractional numbers. Note that these are not just the floats, but the numbers who do not have a fractional part."
   ]
  },
  {
   "cell_type": "code",
   "execution_count": 103,
   "metadata": {},
   "outputs": [],
   "source": [
    "n_list = [3.0, 4, 9.1, 11, 0.2, 1.4, 31, 7]"
   ]
  },
  {
   "cell_type": "code",
   "execution_count": 112,
   "metadata": {},
   "outputs": [
    {
     "name": "stdout",
     "output_type": "stream",
     "text": [
      "66.7\n"
     ]
    }
   ],
   "source": [
    "#1\n",
    "\n",
    "sum = 0\n",
    "\n",
    "for element in n_list:\n",
    "    sum += element\n",
    "print(sum)"
   ]
  },
  {
   "cell_type": "code",
   "execution_count": 129,
   "metadata": {},
   "outputs": [
    {
     "name": "stdout",
     "output_type": "stream",
     "text": [
      "52.7\n"
     ]
    }
   ],
   "source": [
    "#2 \n",
    "\n",
    "sum = 0\n",
    "\n",
    "for element in n_list[2:-1]:\n",
    "    sum += element\n",
    "print(sum)"
   ]
  },
  {
   "cell_type": "code",
   "execution_count": 132,
   "metadata": {},
   "outputs": [
    {
     "name": "stdout",
     "output_type": "stream",
     "text": [
      "16.1\n"
     ]
    }
   ],
   "source": [
    "#3 \n",
    "\n",
    "n_list = [3.0, 4, 9.1, 11, 0.2, 1.4, 31, 7] \n",
    "counter = 0\n",
    "sum = 0\n",
    "\n",
    "while counter < 3:\n",
    "    sum += n_list[counter]\n",
    "    counter += 1\n",
    "print(sum)\n"
   ]
  },
  {
   "cell_type": "code",
   "execution_count": 141,
   "metadata": {},
   "outputs": [
    {
     "name": "stdout",
     "output_type": "stream",
     "text": [
      "53\n"
     ]
    }
   ],
   "source": [
    "#4 \n",
    "sum = 0\n",
    "\n",
    "for element in n_list:\n",
    "    if type(element) == int: \n",
    "        sum += element\n",
    "print(sum)"
   ]
  },
  {
   "cell_type": "code",
   "execution_count": 143,
   "metadata": {},
   "outputs": [
    {
     "name": "stdout",
     "output_type": "stream",
     "text": [
      "49\n"
     ]
    }
   ],
   "source": [
    "#5 The odd integers.\n",
    "sum = 0\n",
    "\n",
    "for element in n_list:\n",
    "    if type(element) == int and element % 2 != 0: \n",
    "        sum += element\n",
    "print(sum)"
   ]
  },
  {
   "cell_type": "code",
   "execution_count": 154,
   "metadata": {},
   "outputs": [
    {
     "name": "stdout",
     "output_type": "stream",
     "text": [
      "10.7\n"
     ]
    }
   ],
   "source": [
    "#6 \n",
    "\n",
    "n_list = [3.0, 4, 9.1, 11, 0.2, 1.4, 31, 7] \n",
    "\n",
    "sum = 0\n",
    "\n",
    "for element in n_list:\n",
    "    if type(element) == float and element % 1 != 0:\n",
    "        sum += element\n",
    "print(sum)\n"
   ]
  },
  {
   "cell_type": "markdown",
   "metadata": {},
   "source": [
    "### Exercise 9: Create lists back and forth\n",
    "\n",
    "1. Create a list `start_values` containing the integers from 0 to 20.\n",
    "\n",
    "    - Set `start_values` to the `range()` function spanning 0 to 20. \n",
    "\n",
    "    - Print `start_values`. You should not see the individual integer values. Check the type of `start_values`: it should be of type `range`.\n",
    "    \n",
    "    - Cast `start_values` to a list and redefine it as such.\n",
    "\n",
    "    - Print it and check its type again to see the individual values and that it is of the correct type.\n"
   ]
  },
  {
   "cell_type": "markdown",
   "metadata": {},
   "source": [
    "2. Create an empty list and call it `way_there`."
   ]
  },
  {
   "cell_type": "markdown",
   "metadata": {},
   "source": [
    "\n",
    "3. Populate the list `way_there` with the remainder (modulo) of the elements of `start_values` divided by 5.\n"
   ]
  },
  {
   "cell_type": "markdown",
   "metadata": {},
   "source": [
    "4. Now, reconstruct the elements of the `start_values` based on `way_there`:\n",
    "\n",
    "- Initialize an empty list with the name `way_back`.\n",
    "\n",
    "- Iterate over the entries of `way_there` and for each entry, calculate the corresponding value in `start_values` by adding the entry in `way_there` with the appropriate multiple of 5.\n",
    "\n",
    "-- To find the appropriate multiple of 5, note that the first time you see a zero in `way_there`, the original value was 0; the second time you see a zero in `way_there`, the original value was 5; the third time you see a zero in `way_there`, the original value was 10; and so on.\n",
    "Therefore, you will need to keep track of how many times you encounter a zero in `way_back`: from the first time you see a zero, you need to add 5 * 0 to the value in `way_there`; from the second time you see zero, you need to add 5 * 1; from the third time, 5 * 2; and so on.\n",
    "\n",
    "-- Append each calculated value to `way_back`.\n",
    "\n",
    "- Print `way_back` to verify it matches `start_values`."
   ]
  },
  {
   "cell_type": "code",
   "execution_count": 194,
   "metadata": {},
   "outputs": [
    {
     "name": "stdout",
     "output_type": "stream",
     "text": [
      "range(0, 21)\n",
      "<class 'range'>\n",
      "[0, 1, 2, 3, 4, 5, 6, 7, 8, 9, 10, 11, 12, 13, 14, 15, 16, 17, 18, 19, 20]\n",
      "<class 'list'>\n"
     ]
    }
   ],
   "source": [
    "#1 \n",
    "\n",
    "start_values = range(21)\n",
    "print(start_values)\n",
    "print(type(start_values))\n",
    "\n",
    "start_values = list(start_values)\n",
    "print(start_values)\n",
    "print(type(start_values))\n",
    "\n"
   ]
  },
  {
   "cell_type": "code",
   "execution_count": 195,
   "metadata": {},
   "outputs": [
    {
     "name": "stdout",
     "output_type": "stream",
     "text": [
      "[0, 1, 2, 3, 4, 0, 1, 2, 3, 4, 0, 1, 2, 3, 4, 0, 1, 2, 3, 4, 0]\n"
     ]
    }
   ],
   "source": [
    "#2\n",
    "\n",
    "way_there = []\n",
    "\n",
    "#3 \n",
    "\n",
    "for element in start_values:\n",
    "    remainder = element % 5\n",
    "    way_there.append(remainder)\n",
    "print(way_there)"
   ]
  },
  {
   "cell_type": "code",
   "execution_count": 205,
   "metadata": {},
   "outputs": [
    {
     "name": "stdout",
     "output_type": "stream",
     "text": [
      "[0, 1, 2, 3, 4, 5, 6, 7, 8, 9, 10, 11, 12, 13, 14, 15, 16, 17, 18, 19, 20]\n"
     ]
    }
   ],
   "source": [
    "#4\n",
    "\n",
    "way_back = []\n",
    "start_counter = 0\n",
    "\n",
    "for entry in way_there:\n",
    "    if entry == 0:\n",
    "        way_back.append(5 * start_counter)\n",
    "        start_counter += 1\n",
    "    else:\n",
    "        way_back.append((start_counter-1) * 5 + entry) #the is 1 offsets the counter in the if statement, it only goes up by 1 once the if statement is satisfied (first, fifth, tenth, fifteenth and twentieth value)\n",
    "print(way_back)\n",
    "\n",
    "    \n",
    "\n"
   ]
  },
  {
   "cell_type": "markdown",
   "metadata": {},
   "source": [
    "### Exercise 10: Ceasar Cipher\n",
    "\n",
    "<p align=\"center\">\n",
    "    <img src=\"CaesarCipher.png\" width=\"25%\" alt=\"CaesarCipher\">\n",
    "</p>\n",
    "\n",
    "One of the earliest forms of cryptography was introduced by Julius Caesar to encrypt his personal correspondence.\n",
    "The encryption works as follows:\n",
    "\n",
    "- All spacing is removed.\n",
    "\n",
    "- Each letter in a text is shifted by a certain number of places up or down the alphabet.\n",
    "\n",
    "Write a code to Caesar-cipher the following text, from Caesar's De Bello Gallico:\n",
    "\n",
    "    fere libenter homines id quod volunt credunt\n",
    "\n",
    "In particular, your code should:\n",
    "\n",
    "1. Initialized a variable to hold the text. You will almost certainly also need a variable that contains the alphabet.\n",
    "\n",
    "1. Initialize an `encoding_key`, storing the number of places each letter must be moved. You want to test both a positive and a negative value.\n",
    "\n",
    "1. Remove whitespaces and replace any other letter in the text according to the cipher. Your code can produce either a string or a list of characters. \n",
    "\n",
    "1. Print the new encrypted text.\n",
    "\n",
    "\n",
    "Your code can ignore capitalized letters and write a cipher that only works with the lower-case alphabet.\n",
    "\n",
    "A convenient way to check if your code works is to set the `encoding_key` to 0 and confirm that you get the original text back, without spaces."
   ]
  },
  {
   "cell_type": "code",
   "execution_count": 221,
   "metadata": {},
   "outputs": [],
   "source": [
    "#1\n",
    "\n",
    "message = \"fere libenter homines id quod volunt credunt\"\n",
    "alphabet = \"abcdefghijklmnopqrstuvwxyz\""
   ]
  },
  {
   "cell_type": "code",
   "execution_count": 236,
   "metadata": {},
   "outputs": [],
   "source": [
    "#2\n",
    "\n",
    "encoding_key = 0"
   ]
  },
  {
   "cell_type": "code",
   "execution_count": 224,
   "metadata": {},
   "outputs": [
    {
     "name": "stdout",
     "output_type": "stream",
     "text": [
      "['f', 'e', 'r', 'e', 'l', 'i', 'b', 'e', 'n', 't', 'e', 'r', 'h', 'o', 'm', 'i', 'n', 'e', 's', 'i', 'd', 'q', 'u', 'o', 'd', 'v', 'o', 'l', 'u', 'n', 't', 'c', 'r', 'e', 'd', 'u', 'n', 't']\n"
     ]
    }
   ],
   "source": [
    "#3\n",
    "\n",
    "message_list_form = list(message)\n",
    "print(message_list_form)\n",
    "\n",
    "for element in message_list_form:\n",
    "    if element == \" \":\n",
    "        message_list_form.remove(element)\n",
    "print(message_list_form)"
   ]
  },
  {
   "cell_type": "code",
   "execution_count": 233,
   "metadata": {},
   "outputs": [
    {
     "name": "stdout",
     "output_type": "stream",
     "text": [
      "azmzgdwziozmcjhdizndylpjyqjgpioxmzypio\n"
     ]
    }
   ],
   "source": [
    "#4 \n",
    "\n",
    "encoding_key = -5\n",
    "encoded_text = \"\"\n",
    "\n",
    "for letter in message_list_form:\n",
    "    index = alphabet.index(letter)\n",
    "    new_index = (index + encoding_key) % 26 \n",
    "    encoded_text += alphabet[new_index]\n",
    "print(encoded_text)"
   ]
  },
  {
   "cell_type": "code",
   "execution_count": 235,
   "metadata": {},
   "outputs": [
    {
     "name": "stdout",
     "output_type": "stream",
     "text": [
      "ferelibenterhominesidquodvoluntcredunt\n"
     ]
    }
   ],
   "source": [
    "#DECODING WITH KEY 0\n",
    "\n",
    "decoding_key = 0\n",
    "decoded_text = \"\"\n",
    "\n",
    "for letter in message_list_form:\n",
    "    index = alphabet.index(letter)\n",
    "    new_index = (index + decoding_key) % 26 \n",
    "    decoded_text += alphabet[new_index]\n",
    "print(decoded_text)\n"
   ]
  }
 ],
 "metadata": {
  "kernelspec": {
   "display_name": "Python 3",
   "language": "python",
   "name": "python3"
  },
  "language_info": {
   "codemirror_mode": {
    "name": "ipython",
    "version": 3
   },
   "file_extension": ".py",
   "mimetype": "text/x-python",
   "name": "python",
   "nbconvert_exporter": "python",
   "pygments_lexer": "ipython3",
   "version": "3.9.6"
  }
 },
 "nbformat": 4,
 "nbformat_minor": 2
}
