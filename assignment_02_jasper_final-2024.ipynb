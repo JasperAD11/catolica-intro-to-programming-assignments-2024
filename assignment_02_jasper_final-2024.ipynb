{
 "cells": [
  {
   "cell_type": "markdown",
   "metadata": {},
   "source": [
    "# Introduction to Programming\n",
    "## Assignment 2: midterm\n",
    "\n",
    "- [Instructions](#instructions)\n",
    "\n",
    "- [Object manipulation](#oj)\n",
    "\n",
    "- [Microbial world](#mw)"
   ]
  },
  {
   "cell_type": "markdown",
   "metadata": {},
   "source": [
    "<a id=\"instructions\"></a>\n",
    "### Instructions\n",
    "\n",
    "This assignment contributes 20% on your final grade. \n",
    "The assignment is worth a total of 100 points, divided equally between the object manipulation (50 points) and the microbial world problems (50 points).\n",
    "\n",
    "Solve the exercises below. \n",
    "You may use any programming concepts covered in class up to and including the chapter on `numpy`.\n",
    "\n",
    "Remember to test your code using multiple values for each input to ensure it works correctly in various scenarios.\n",
    "In case of a doubt in the instructions of the exercises, **ask in class**: if you have a doubt, you are probably not the only one: it is fair to clarify it for everyone.\n",
    "Return your work by uploading it to Moodle. \n",
    "\n",
    "I hope you enjoy these exercises.\n",
    "\n",
    "---"
   ]
  },
  {
   "cell_type": "markdown",
   "metadata": {},
   "source": [
    "<a id=\"oj\"></a>\n",
    "### Object manipulation (50 points)"
   ]
  },
  {
   "cell_type": "markdown",
   "metadata": {},
   "source": [
    "These data, in dictionary format, record wind speed measurements at different locations.\n",
    "\n",
    "```\n",
    "{\n",
    "    'North Ridge': (9, 22, 11, 27, 43, 6, 17, 23),\n",
    "    'East Valley': (8, 28, 30, 14, 26, 29, 17, 8, 9, 12, 16),\n",
    "    'South Point': (10, 7, 26, 22, 8, 30, 21, 10, 27, 15, 11, 24),\n",
    "    'West Bay': (27, 18, 25, 22, 18, 8, 28, 24, 16),\n",
    "    'Central Park': (28, 26, 26, 19, 7, 12, 11, 20, 8, 49, 21)\n",
    "}\n",
    "```"
   ]
  },
  {
   "cell_type": "markdown",
   "metadata": {},
   "source": [
    "Store these data as a variable `wind_data` in a standalone module. \n",
    "Import the module and then perform the following tasks.\n",
    "\n",
    "For each task, \n",
    "\n",
    "- your desired output is a tuple or a list, in which every element is a two-element tuple or list, with \n",
    "\n",
    "    - the first entry being the name of the location (e.g. 'North Ridge').\n",
    "    - the second element being the quantity you are asked to compute.\n",
    "\n",
    "\n",
    "- unless specified otherwise, solve in two ways:\n",
    "\n",
    "    - first, do this in free format, i.e. writing the code as you prefer.\n",
    "    - then, do this is a single line of code.\n"
   ]
  },
  {
   "cell_type": "markdown",
   "metadata": {},
   "source": [
    "These are the tasks:\n",
    "\n",
    "1. Compute the number of characters in each location name (spaces included).\n",
    "\n",
    "1. Compute the number of measurements associated with each location.\n",
    "\n",
    "1. For each location, \n",
    "    - Compute:\n",
    "        - the minimal wind speed,\n",
    "        - the average wind speed, \n",
    "        - the maximal wind speed. \n",
    "    - These three values should be passed as a single element (a tuple or a list) to the second element of your desired output. \n",
    "    - Store this object as a variable: `wind_stats`.\n",
    "\n",
    "1. Sort `wind_stats`:\n",
    "    \n",
    "    1. by average wind speed, without performing in-place modification.\n",
    "    1. by reverse order of minimum speed, performing in-place modification and visualizing the output.\n",
    "    \n",
    "    - no need to perform these in two ways (i.e. free format and single line of code).\n",
    "\n",
    "1. Wind speeds that exceed 30 km/h as wind gusts (strictly greater than 30). With this in mind, do the following. No need to solve any of these points in a single line (it would be a very long line).\n",
    "\n",
    "    1. Create a new dictionary `wind_data_np` with the same keys as `wind_data` but the values of stored as numpy arrays.\n",
    "\n",
    "        - Use `numpy` arrays with float data type for all values in the new dictionary `wind_data_np`. The precision (i.e. the number after 'float') does not matter.\n",
    "        - Explicitly verify each value in `wind_data_np` is indeed a `numpy` array by printing their types or using an assertion.\n",
    "    \n",
    "    1. For each location, compute:\n",
    "        - the number of wind gusts that are on record,\n",
    "        - the share of wind gusts over the number of recordings, \n",
    "        - and the average speed of the wind gusts. If there are no gusts, set the mean to zero.\n",
    "\n",
    "    - These three values should be single numbers, and not arrays.\n",
    "    - These three values should be passed as a single element (a tuple or a list) to the second element of your desired output. \n",
    "    - Store this object as a variable: `wind_gust_stats`. This can be either a list, a tuple, or a dict.\n",
    "   "
   ]
  },
  {
   "cell_type": "code",
   "execution_count": 99,
   "metadata": {},
   "outputs": [],
   "source": [
    "import wind_data as wd"
   ]
  },
  {
   "cell_type": "code",
   "execution_count": 102,
   "metadata": {},
   "outputs": [
    {
     "name": "stdout",
     "output_type": "stream",
     "text": [
      "{'North Ridge': (9, 22, 11, 27, 43, 6, 17, 23), 'East Valley': (8, 28, 30, 14, 26, 29, 17, 8, 9, 12, 16), 'South Point': (10, 7, 26, 22, 8, 30, 21, 10, 27, 15, 11, 24), 'West Bay': (27, 18, 25, 22, 18, 8, 28, 24, 16), 'Central Park': (28, 26, 26, 19, 7, 12, 11, 20, 8, 49, 21)}\n"
     ]
    }
   ],
   "source": [
    "print(wd.wind_data)"
   ]
  },
  {
   "cell_type": "code",
   "execution_count": 1,
   "metadata": {},
   "outputs": [
    {
     "ename": "NameError",
     "evalue": "name 'wd' is not defined",
     "output_type": "error",
     "traceback": [
      "\u001b[0;31m---------------------------------------------------------------------------\u001b[0m",
      "\u001b[0;31mNameError\u001b[0m                                 Traceback (most recent call last)",
      "Cell \u001b[0;32mIn[1], line 7\u001b[0m\n\u001b[1;32m      1\u001b[0m \u001b[38;5;66;03m#Question 1 - Compute the number of characters in each location name (spaces included):\u001b[39;00m\n\u001b[1;32m      2\u001b[0m \n\u001b[1;32m      3\u001b[0m \u001b[38;5;66;03m#a - Free way\u001b[39;00m\n\u001b[1;32m      5\u001b[0m character_length_of_location \u001b[38;5;241m=\u001b[39m []\n\u001b[0;32m----> 7\u001b[0m \u001b[38;5;28;01mfor\u001b[39;00m i \u001b[38;5;129;01min\u001b[39;00m \u001b[43mwd\u001b[49m\u001b[38;5;241m.\u001b[39mwind_data:\n\u001b[1;32m      8\u001b[0m     character_length_of_location\u001b[38;5;241m.\u001b[39mappend(\u001b[38;5;28mlen\u001b[39m(i))\n\u001b[1;32m      9\u001b[0m \u001b[38;5;66;03m#print(character_length_of_location)\u001b[39;00m\n\u001b[1;32m     10\u001b[0m \n\u001b[1;32m     11\u001b[0m \u001b[38;5;66;03m#b One line of code \u001b[39;00m\n",
      "\u001b[0;31mNameError\u001b[0m: name 'wd' is not defined"
     ]
    }
   ],
   "source": [
    "#Question 1 - Compute the number of characters in each location name (spaces included):\n",
    "\n",
    "#a - Free way\n",
    "\n",
    "character_length_of_location = []\n",
    "\n",
    "for i in wd.wind_data:\n",
    "    character_length_of_location.append(len(i))\n",
    "#print(character_length_of_location)\n",
    "\n",
    "#b One line of code \n",
    "\n",
    "[[i,len(i)] for i in wd.wind_data]\n"
   ]
  },
  {
   "cell_type": "code",
   "execution_count": 134,
   "metadata": {},
   "outputs": [
    {
     "data": {
      "text/plain": [
       "[['North Ridge', 8],\n",
       " ['East Valley', 11],\n",
       " ['South Point', 12],\n",
       " ['West Bay', 9],\n",
       " ['Central Park', 11]]"
      ]
     },
     "execution_count": 134,
     "metadata": {},
     "output_type": "execute_result"
    }
   ],
   "source": [
    "#Question 2 - Compute the number of measurements associated with each location.\n",
    "\n",
    "\n",
    "#a - Free way\n",
    "\n",
    "locations = list(wd.wind_data)\n",
    "measurements = (list(wd.wind_data.values()))\n",
    "measurements_per_location = []\n",
    "\n",
    "for i in measurements:\n",
    "    measurements_per_location.append(len(i))    \n",
    "#print(measurements_per_location)\n",
    "\n",
    "#print(list(zip(locations, measurements_per_location)))\n",
    "\n",
    "#b - One line of code\n",
    "\n",
    "[[i, len(wd.wind_data[i])] for i in wd.wind_data]"
   ]
  },
  {
   "cell_type": "code",
   "execution_count": 191,
   "metadata": {},
   "outputs": [
    {
     "name": "stdout",
     "output_type": "stream",
     "text": [
      "[('North Ridge', (6, 19.75, 43)), ('East Valley', (8, 17.91, 30)), ('South Point', (7, 17.58, 30)), ('West Bay', (8, 20.67, 28)), ('Central Park', (7, 20.64, 49))]\n"
     ]
    }
   ],
   "source": [
    "#Question 3 - For each location, compute (min, average, max). Store values as tuple/list as a second element to desired output(i guess location)\n",
    "#Store this object as a variable: `wind_stats`.\n",
    "\n",
    "#a - Free way\n",
    "\n",
    "        #a MIN VALUE\n",
    "min_per_location =[]\n",
    "for i in measurements:\n",
    "    min_per_location.append(min(i))\n",
    "#print(min_per_location)\n",
    "\n",
    "        #a AVERAGE\n",
    "total_sum = []\n",
    "for i in measurements:\n",
    "    total_sum.append(sum(i))\n",
    "#print(total_sum)\n",
    "average_per_location = []\n",
    "for t, m in zip(total_sum, measurements_per_location):\n",
    "    average_per_location.append(t / m)\n",
    "#print(average_per_location)\n",
    "\n",
    "    #a MAX VALUE\n",
    "max_per_location =[]\n",
    "for i in measurements:\n",
    "    max_per_location.append(max(i))\n",
    "#print(max_per_location)\n",
    "\n",
    "wind_stats = list(zip(locations, [min_per_location, average_per_location, max_per_location]))\n",
    "#print(wind_stats)\n",
    "\n",
    "#b - One line of code \n",
    "\n",
    "    #b MIN VALUE\n",
    "#min_per_location = list(zip(wd.wind_data.keys(), (min(values) for values in wd.wind_data.values())))\n",
    "#print(min_per_location)\n",
    "\n",
    "    # AVERAGE VALUE\n",
    "#average_per_location = list(zip(wd.wind_data.keys(), (round(sum(values) / len(values), 2) for values in wd.wind_data.values())))\n",
    "#print(average_per_location)\n",
    "\n",
    "    # MAX VALUE\n",
    "#max_per_location = [max(i) for i in measurements]\n",
    "#print(list(zip(locations, max_per_location)))\n",
    "#max_per_location = list(zip(wd.wind_data.keys(), (max(values) for values in wd.wind_data.values())))\n",
    "#print(max_per_location)\n",
    "\n",
    "wind_stats = wind_stats = list(zip(wd.wind_data.keys(), ((min(values), round(sum(values) / len(values), 2), max(values)) for values in wd.wind_data.values())))\n",
    "print(wind_stats)\n",
    "    "
   ]
  },
  {
   "cell_type": "code",
   "execution_count": 184,
   "metadata": {},
   "outputs": [
    {
     "name": "stdout",
     "output_type": "stream",
     "text": [
      "[['South Point', [7, 17.58, 30]], ['East Valley', [8, 17.91, 30]], ['North Ridge', [6, 19.75, 43]], ['Central Park', [7, 20.64, 49]], ['West Bay', [8, 20.67, 28]]]\n",
      "[['East Valley', [8, 17.91, 30]], ['West Bay', [8, 20.67, 28]], ['South Point', [7, 17.58, 30]], ['Central Park', [7, 20.64, 49]], ['North Ridge', [6, 19.75, 43]]]\n"
     ]
    }
   ],
   "source": [
    "#Question 4: Sort `wind_stats\n",
    "\n",
    "#1 Sort by average wind speed\n",
    "sorted_wind_stats = sorted(wind_stats, key=lambda avg: avg[1][1])\n",
    "print(sorted_wind_stats)\n",
    "\n",
    "\n",
    "#2 By reverse order of minimum speed, performing in-place modification and visualizing the output.\n",
    "\n",
    "#turned wind stats into a nested lists to perform modifications\n",
    "wind_stats = [\n",
    "    [location, [min_value, avg_value, max_value]]  \n",
    "    for location, (min_value, avg_value, max_value) in wind_stats]\n",
    "\n",
    "wind_stats.sort(key=lambda minim: minim[1][0], reverse=True)\n",
    "print(wind_stats)"
   ]
  },
  {
   "cell_type": "code",
   "execution_count": 215,
   "metadata": {},
   "outputs": [
    {
     "name": "stdout",
     "output_type": "stream",
     "text": [
      "{'North Ridge': array([ 9, 22, 11, 27, 43,  6, 17, 23]), 'East Valley': array([ 8, 28, 30, 14, 26, 29, 17,  8,  9, 12, 16]), 'South Point': array([10,  7, 26, 22,  8, 30, 21, 10, 27, 15, 11, 24]), 'West Bay': array([27, 18, 25, 22, 18,  8, 28, 24, 16]), 'Central Park': array([28, 26, 26, 19,  7, 12, 11, 20,  8, 49, 21])}\n",
      "<class 'numpy.ndarray'>\n",
      "<class 'numpy.ndarray'>\n",
      "<class 'numpy.ndarray'>\n",
      "<class 'numpy.ndarray'>\n",
      "<class 'numpy.ndarray'>\n",
      "[['North Ridge', (1, 0.125, 43.0)], ['East Valley', (1, 0.09090909090909091, 30.0)], ['South Point', (1, 0.08333333333333333, 30.0)], ['West Bay', (0, 0.0, 0)], ['Central Park', (1, 0.09090909090909091, 49.0)]]\n"
     ]
    }
   ],
   "source": [
    "#Question 5 Wind speeds that exceed 30 km/h as wind gusts (strictly greater than 30).\n",
    "  \n",
    "#1. \n",
    " \n",
    "  #Create a new dictionary `wind_data_np` with the same keys as `wind_data` but the values of stored as numpy arrays.\n",
    "import numpy as np\n",
    "\n",
    "wind_data_np = {key: np.array(value) for key, value in wd.wind_data.items()}\n",
    "print(wind_data_np)\n",
    "\n",
    "#Use `numpy` arrays with float data type for all values in the new dictionary `wind_data_np`. \n",
    "wind_data_np = {key: np.array(value, dtype=float) for key, value in wd.wind_data.items()}\n",
    "\n",
    "#Explicitly verify each value in `wind_data_np` is indeed a `numpy` array by printing their types\n",
    "for i, j in wind_data_np.items():\n",
    "    print(type(j))\n",
    "    \n",
    "#2 For each location, compute:\n",
    "\n",
    "  #The number of wind gusts that are on record\n",
    "  #The share of wind gusts over the number of recordings\n",
    "  #And the average speed of the wind gusts. If there are no gusts, set the mean to zero\n",
    "wind_gust_stats = []\n",
    "\n",
    "for i, j in wind_data_np.items():\n",
    "    num_gusts = int(np.sum(j >= 30))\n",
    "    share = float(num_gusts / len(j))\n",
    "    avg_speed = float(np.mean(j[j >= 30])) if num_gusts > 0 else 0\n",
    "    wind_gust_stats.append([i, (num_gusts, share, avg_speed)])\n",
    "print(wind_gust_stats)"
   ]
  },
  {
   "cell_type": "markdown",
   "metadata": {},
   "source": [
    "---\n",
    "\n",
    "<a id = 'mw'></a> \n",
    "\n",
    "### Microbial world (50 points)\n",
    "\n",
    "Microbes have a limited sense of consciousness.\n",
    "As far as we can tell, they understand the boundaries of their body. \n",
    "Therefore, they are aware of when they get into contact with another microbe.\n",
    "This allows them to predate.\n",
    "\n",
    "However, microbes do not seem to have a sense of space beyond this: they seem to move randomly until they randomly stumble upon their next meal.\n",
    "Since microbes have successfully sustained life on earth for millions of years, this works quite effectively.\n",
    "\n",
    "We will simulate the random path of microbe movement and predation.\n",
    "We will create a `Microbe` object class.\n",
    "We will endow this class with methods to simulate random movement, tracking position and direction in a 10 by 10 space.\n",
    "Then, creating two instances of microbes, we will let them randomly explore the space till one eats the other.\n",
    "\n",
    "The first set of instructions refers to the creation of the `Microbe` class (30 points).\n",
    "The second set describes how to simulate exploration and predation (20 points).\n",
    "A final set of instructions describes an **optional** further extension of this problem, for glory and practice.\n"
   ]
  },
  {
   "cell_type": "markdown",
   "metadata": {},
   "source": [
    "#### Instructions for Implementing the `Microbe` Class (30 points)\n",
    "\n",
    "Follow these detailed instructions to create the `Microbe` class. \n",
    "Each step covers specific functionality needed for the class to perform as described.\n",
    "\n",
    "These instructions are very detailed and can be followed step-by-step."
   ]
  },
  {
   "cell_type": "markdown",
   "metadata": {},
   "source": [
    "##### Step 1: Define the `Microbe` Class and `__init__` Constructor\n",
    "\n",
    "1. **Class Definition**: Start by defining a class named `Microbe`.\n",
    "\n",
    "2. **Constructor Method (`__init__`)**:\n",
    "   - Set default values for the parameters:\n",
    "     - `initial_position`: Defaults to `[0, 0]`, a list representing initial x and y coordinates.\n",
    "     - `initial_direction`: Defaults to `0`, an integer representing the initial facing direction. The four directions are indexed as follows:\n",
    "       - `0`: Up\n",
    "       - `1`: Right\n",
    "       - `2`: Down\n",
    "       - `3`: Left\n",
    "\n",
    "   - Import `numpy` as `np` within the `__init__` method. This is to ensure `numpy` is available without needing to import it elsewhere in the class.\n",
    "\n",
    "   - Use the constructor method to initialize three **attributes**:\n",
    "\n",
    "      - the `position` attribute is set to `initial_position`. I recommend using a `numpy` array, since this simplifies your code to update the position later on. \n",
    "\n",
    "      - the `direction` attribute takes the value of `initial_direction`.\n",
    "\n",
    "      - the `alive` attribute is initalized to `True` and will track whether the microbe is \"alive\" or not. The microbe will be \"alive\" so long as it has not been \"eaten\" by any other microbe."
   ]
  },
  {
   "cell_type": "code",
   "execution_count": 3,
   "metadata": {},
   "outputs": [],
   "source": [
    "class Microbe(): \n",
    "    def direction_name(self):\n",
    "        directions = [\"up\", \"right\", \"down\", \"left\"]\n",
    "        return directions[self.direction]\n",
    "    def __init__(self, initial_position = [0,0], inital_direction = 0):\n",
    "        import numpy as np\n",
    "        self.np = np\n",
    "        self.position = self.np.array(initial_position)\n",
    "        self.direction = (inital_direction)\n",
    "        self.alive = True\n",
    "        \n"
   ]
  },
  {
   "cell_type": "code",
   "execution_count": 4,
   "metadata": {},
   "outputs": [
    {
     "name": "stdout",
     "output_type": "stream",
     "text": [
      "True\n",
      "0\n",
      "up\n",
      "[0 0]\n"
     ]
    }
   ],
   "source": [
    "microbe = Microbe()\n",
    "print(microbe.alive)\n",
    "print(microbe.direction)\n",
    "print(microbe.direction_name())\n",
    "print(microbe.position)\n",
    "\n"
   ]
  },
  {
   "cell_type": "code",
   "execution_count": 5,
   "metadata": {},
   "outputs": [
    {
     "name": "stdout",
     "output_type": "stream",
     "text": [
      "True\n",
      "1\n",
      "right\n",
      "[1 2]\n"
     ]
    }
   ],
   "source": [
    "microbe = Microbe([1,2],1)\n",
    "print(microbe.alive)\n",
    "print(microbe.direction)\n",
    "print(microbe.direction_name())\n",
    "print(microbe.position)"
   ]
  },
  {
   "cell_type": "markdown",
   "metadata": {},
   "source": [
    "##### Step 2: Define the `turn_right` and `turn_left` Methods\n",
    "1. **Purpose**: These methods allow the microbe to change its direction by turning either right or left.\n",
    "\n",
    "2. **Turning Right**:\n",
    "   - Define `turn_right`, which adjusts the direction by adding 1 to attribute `direction`.\n",
    "   - Recall that direction must be in the range `[0, 1, 2, 3]`: use the modulus operator to ensure `direction` remains in this range.\n",
    "   - This method does not return any values; it simply updates `direction`.\n",
    "\n",
    "3. **Turning Left**:\n",
    "   - Define `turn_left`, which adjusts the direction by subtracting 1 from attribute `direction`.\n",
    "   - Again, recall that direction must be in the range `[0, 1, 2, 3]`: use the modulus operator to ensure `direction` remains in this range.\n",
    "   - This method alse does not return any values; it again simply updates `direction`."
   ]
  },
  {
   "cell_type": "code",
   "execution_count": 6,
   "metadata": {},
   "outputs": [],
   "source": [
    "class Microbe(): \n",
    "    def direction_name(self):\n",
    "        directions = [\"up\", \"right\", \"down\", \"left\"]\n",
    "        return directions[self.direction]\n",
    "    def __init__(self, initial_position = [0,0], inital_direction = 0):\n",
    "        import numpy as np\n",
    "        self.np = np\n",
    "        self.position = self.np.array(initial_position)\n",
    "        self.direction = (inital_direction)\n",
    "        self.alive = True\n",
    "        #Step 2:\n",
    "    def turn_right(self):\n",
    "        self.direction = (self.direction + 1) % 4\n",
    "    def turn_left(self):\n",
    "        self.direction = (self.direction - 1) % 4\n"
   ]
  },
  {
   "cell_type": "code",
   "execution_count": 9,
   "metadata": {},
   "outputs": [
    {
     "name": "stdout",
     "output_type": "stream",
     "text": [
      "0 up\n"
     ]
    }
   ],
   "source": [
    "microbe = Microbe([1, 2],0)\n",
    "print(microbe.direction, microbe.direction_name())"
   ]
  },
  {
   "cell_type": "code",
   "execution_count": 10,
   "metadata": {},
   "outputs": [
    {
     "name": "stdout",
     "output_type": "stream",
     "text": [
      "1 right\n"
     ]
    }
   ],
   "source": [
    "microbe.turn_right()\n",
    "print(microbe.direction, microbe.direction_name())"
   ]
  },
  {
   "cell_type": "code",
   "execution_count": 11,
   "metadata": {},
   "outputs": [
    {
     "name": "stdout",
     "output_type": "stream",
     "text": [
      "0 up\n"
     ]
    }
   ],
   "source": [
    "microbe.turn_left()\n",
    "print(microbe.direction, microbe.direction_name())"
   ]
  },
  {
   "cell_type": "markdown",
   "metadata": {},
   "source": [
    "##### Step 3: Define the `random_turn` Method\n",
    "\n",
    "1. **Purpose**: This method will randomly choose whether to turn left or right, based on a 50/50 probability.\n",
    "\n",
    "2. **Random Choice**:\n",
    "   - Import `numpy` as `np` within this method.\n",
    "   - Use `np.random.rand()` to generate a random floating-point number between 0 and 1.\n",
    "   - Use an `if` statement to evaluate this number:\n",
    "     - If the random number is less than 0.5, call `turn_left()`.\n",
    "     - Otherwise, call `turn_right()`.\n",
    "    - This method does not return any values; it simply executes one of these two actions.\n",
    "   \n",
    "   This approach ensures a 50% chance of turning in each direction."
   ]
  },
  {
   "cell_type": "code",
   "execution_count": 12,
   "metadata": {},
   "outputs": [],
   "source": [
    "\n",
    "class Microbe(): \n",
    "    def direction_name(self):\n",
    "        directions = [\"up\", \"right\", \"down\", \"left\"]\n",
    "        return directions[self.direction]\n",
    "    def __init__(self, initial_position = [0,0], inital_direction = 0):\n",
    "        import numpy as np\n",
    "        self.np = np\n",
    "        self.position = self.np.array(initial_position)\n",
    "        self.direction = (inital_direction)\n",
    "        self.alive = True\n",
    "    def turn_right(self):\n",
    "        self.direction = (self.direction + 1) % 4\n",
    "    def turn_left(self):\n",
    "        self.direction = (self.direction - 1) % 4\n",
    "    #step 3:\n",
    "    def random_turn(self):\n",
    "        import numpy as np\n",
    "        self.np = np\n",
    "        if np.random.rand() < 0.5:\n",
    "            self.turn_left()\n",
    "        else:\n",
    "            self.turn_right()"
   ]
  },
  {
   "cell_type": "markdown",
   "metadata": {},
   "source": [
    "##### Step 4: Define the `step_forward` Method\n",
    "\n",
    "1. **Purpose**: Moves the microbe one step in its current direction, updating its position in the 10x10 grid.\n",
    "\n",
    "2. **Direction-Based Movement**:\n",
    "\n",
    "   - Set up conditional checks for `direction`, using a conditional structure:\n",
    "     - If `direction` equals 0, the microbe moves \"up\" by increasing its y-coordinate by 1.\n",
    "     - If `direction` equals 1, the microbe moves \"right\" by increasing its x-coordinate by 1.\n",
    "     - If `direction` equals 2, the microbe moves \"down\" by decreasing its y-coordinate by 1.\n",
    "     - If `direction` equals 3, the microbe moves \"left\" by decreasing its x-coordinate by 1.\n",
    "   - For each case, add the appropriate value to `position`.\n",
    "   - This method does not return any values; it simply updates `position`.\n",
    "\n",
    "3. **Edge Wrapping**:\n",
    "   \n",
    "   - We will assume \"Pac-Man movement\": \n",
    "      - The grid is 10x10.\n",
    "      - If the microbe moves forward beyond the grid's edge, it re-enters the grid on the opposite side (same as in Pac-Man).\n",
    "   - To do this, after updating the position, apply the modulus operator to `position` to wrap around if the microbe crosses the \"grid’s edge\".\n",
    "      - To ensure that the grid is 10x10, the positional coordinates must remain in the range from 0 to 9.\n",
    "   \n",
    "   Ensure the modulus operation is applied to both x and y values in `position`."
   ]
  },
  {
   "cell_type": "code",
   "execution_count": 13,
   "metadata": {},
   "outputs": [],
   "source": [
    "\n",
    "class Microbe(): \n",
    "    def direction_name(self):\n",
    "        directions = [\"up\", \"right\", \"down\", \"left\"]\n",
    "        return directions[self.direction]\n",
    "    def __init__(self, initial_position = [0,0], inital_direction = 0):\n",
    "        import numpy as np\n",
    "        self.np = np\n",
    "        self.position = self.np.array(initial_position)\n",
    "        self.direction = (inital_direction)\n",
    "        self.alive = True\n",
    "    def turn_right(self):\n",
    "        self.direction = (self.direction + 1) % 4\n",
    "    def turn_left(self):\n",
    "        self.direction = (self.direction - 1) % 4\n",
    "    def random_turn(self):\n",
    "        import numpy as np\n",
    "        self.np = np\n",
    "        if np.random.rand() < 0.5:\n",
    "            self.turn_left()\n",
    "        else:\n",
    "            self.turn_right()\n",
    "    #step 4:\n",
    "    def step_forward(self):\n",
    "        if self.direction == 0:\n",
    "            self.position[1] += 1\n",
    "        elif self.direction == 1:\n",
    "            self.position[0] += 1\n",
    "        elif self.direction == 2:\n",
    "            self.position[1] -= 1\n",
    "        elif self.direction == 3:\n",
    "            self.position [0] -= 1\n",
    "        \n",
    "        self.position[0] %= 10 \n",
    "        self.position[1] %= 10  "
   ]
  },
  {
   "cell_type": "markdown",
   "metadata": {},
   "source": [
    "##### Step 5: Define the `move` Method\n",
    "\n",
    "1. **Purpose**: At a given time, the microbe can either turn in a random direction or step forward. This behavior is determined by the method `move`.\n",
    "\n",
    "2. **Random Decision**:\n",
    "   - Import `numpy` as `np` within this method.\n",
    "   - Use `np.random.rand()` to generate a random number between 0 and 1.\n",
    "   - Use an `if` statement to evaluate this random number:\n",
    "     - If the number is less than 0.5, call `random_turn()`, making the microbe turn in a random direction.\n",
    "     - Otherwise, call `step_forward()` to make the microbe move one step forward.\n",
    "    - This method does not return any values; it simply executes one of these two actions."
   ]
  },
  {
   "cell_type": "code",
   "execution_count": 14,
   "metadata": {},
   "outputs": [],
   "source": [
    "\n",
    "class Microbe(): \n",
    "    def direction_name(self):\n",
    "        directions = [\"up\", \"right\", \"down\", \"left\"]\n",
    "        return directions[self.direction]\n",
    "    def __init__(self, initial_position = [0,0], inital_direction = 0):\n",
    "        import numpy as np\n",
    "        self.np = np\n",
    "        self.position = self.np.array(initial_position)\n",
    "        self.direction = (inital_direction)\n",
    "        self.alive = True\n",
    "    def turn_right(self):\n",
    "        self.direction = (self.direction + 1) % 4\n",
    "    def turn_left(self):\n",
    "        self.direction = (self.direction - 1) % 4\n",
    "    def random_turn(self):\n",
    "        import numpy as np\n",
    "        self.np = np\n",
    "        if np.random.rand() < 0.5:\n",
    "            self.turn_left()\n",
    "        else:\n",
    "            self.turn_right()\n",
    "    def step_forward(self):\n",
    "        if self.direction == 0:\n",
    "            self.position[1] += 1\n",
    "        elif self.direction == 1:\n",
    "            self.position[0] += 1\n",
    "        elif self.direction == 2:\n",
    "            self.position[1] -= 1\n",
    "        elif self.direction == 3:\n",
    "            self.position [0] -= 1\n",
    "        \n",
    "        self.position[0] %= 10 \n",
    "        self.position[1] %= 10  \n",
    "    #Step 5:\n",
    "    def move(self):\n",
    "        import numpy as np\n",
    "        self.np = np\n",
    "        if np.random.rand() < 0.5:\n",
    "            self.random_turn()\n",
    "        else:\n",
    "            self.step_foward()"
   ]
  },
  {
   "cell_type": "markdown",
   "metadata": {},
   "source": [
    "##### Step 6: Define the `has_been_eaten` Method\n",
    "\n",
    "1. **Purpose**: This method updates the microbe’s status to \"not alive,\" simulating that it has been \"eaten.\"\n",
    "\n",
    "2. **Update `alive` Status**:\n",
    "   - Define `has_been_eaten` to set attribute `alive = False`, representing that the microbe is no longer active.\n",
    "   - This method does not return any values; it simply updates the `alive` attribute.\n"
   ]
  },
  {
   "cell_type": "code",
   "execution_count": 15,
   "metadata": {},
   "outputs": [],
   "source": [
    "\n",
    "class Microbe(): \n",
    "    def direction_name(self):\n",
    "        directions = [\"up\", \"right\", \"down\", \"left\"]\n",
    "        return directions[self.direction]\n",
    "    def __init__(self, initial_position = [0,0], inital_direction = 0):\n",
    "        import numpy as np\n",
    "        self.np = np\n",
    "        self.position = self.np.array(initial_position)\n",
    "        self.direction = (inital_direction)\n",
    "        self.alive = True\n",
    "    def turn_right(self):\n",
    "        self.direction = (self.direction + 1) % 4\n",
    "    def turn_left(self):\n",
    "        self.direction = (self.direction - 1) % 4\n",
    "    def random_turn(self):\n",
    "        import numpy as np\n",
    "        self.np = np\n",
    "        if np.random.rand() < 0.5:\n",
    "            self.turn_left()\n",
    "        else:\n",
    "            self.turn_right()\n",
    "    def step_forward(self):\n",
    "        if self.direction == 0:\n",
    "            self.position[1] += 1\n",
    "        elif self.direction == 1:\n",
    "            self.position[0] += 1\n",
    "        elif self.direction == 2:\n",
    "            self.position[1] -= 1\n",
    "        elif self.direction == 3:\n",
    "            self.position [0] -= 1\n",
    "        \n",
    "        self.position[0] %= 10 \n",
    "        self.position[1] %= 10  \n",
    "    def move(self):\n",
    "        import numpy as np\n",
    "        self.np = np\n",
    "        if np.random.rand() < 0.5:\n",
    "            self.random_turn()\n",
    "        else:\n",
    "            self.step_forward()\n",
    "    #Step 6:\n",
    "    def has_been_eaten(self):\n",
    "        self.alive =False"
   ]
  },
  {
   "cell_type": "code",
   "execution_count": 16,
   "metadata": {},
   "outputs": [
    {
     "name": "stdout",
     "output_type": "stream",
     "text": [
      "0 up [0 0] True\n"
     ]
    }
   ],
   "source": [
    "microbe = Microbe([0, 0],0)\n",
    "print(microbe.direction, microbe.direction_name(), microbe.position, microbe.alive)"
   ]
  },
  {
   "cell_type": "code",
   "execution_count": 17,
   "metadata": {},
   "outputs": [
    {
     "name": "stdout",
     "output_type": "stream",
     "text": [
      "False\n"
     ]
    }
   ],
   "source": [
    "microbe.has_been_eaten()\n",
    "print(microbe.alive)"
   ]
  },
  {
   "cell_type": "markdown",
   "metadata": {},
   "source": [
    "\n",
    "##### Final Notes on the Object Class\n",
    "\n",
    "1. **Testing the Class**:\n",
    "   - Create instances of `Microbe` to verify each method individually.\n",
    "   - Test edge cases, such as:\n",
    "     - Calling `step_forward()` at a boundary position (e.g., `[9, 0]`) to confirm wrapping.\n",
    "     - Repeatedly calling `turn_right()` or `turn_left()` to confirm directional cycling.\n",
    "     - Checking that `random_turn()` consistently produces varied turns.\n",
    "     - Verifying `has_been_eaten()` correctly sets `self.alive` to `False`.\n",
    "   - Confirm that the methods perform as expected in various configurations.\n",
    "\n",
    "2. **Numpy Import Placement**:\n",
    "   - The import of `numpy` is specifically scoped to the methods that require it (`__init__`, `random_turn`, and `move`) to limit scope and improve readability.\n",
    "\n",
    "By following these steps, you should be able to build and thoroughly test the `Microbe` class with accurate functionality and clean organization. Each instruction is aimed to cover all possible scenarios for creating, using, and verifying this class’s behavior.\n"
   ]
  },
  {
   "cell_type": "code",
   "execution_count": 18,
   "metadata": {},
   "outputs": [
    {
     "name": "stdout",
     "output_type": "stream",
     "text": [
      "3 left [9 0]\n"
     ]
    }
   ],
   "source": [
    "#1 Testing\n",
    "\n",
    "microbe = Microbe([9,0], 3)\n",
    "print(microbe.direction, microbe.direction_name(), microbe.position)"
   ]
  },
  {
   "cell_type": "code",
   "execution_count": 19,
   "metadata": {},
   "outputs": [
    {
     "name": "stdout",
     "output_type": "stream",
     "text": [
      "3 left [7 0]\n"
     ]
    }
   ],
   "source": [
    "#1 Testing  \n",
    "\n",
    "microbe.step_forward()\n",
    "microbe.step_forward()\n",
    "\n",
    "print(microbe.direction, microbe.direction_name(), microbe.position)"
   ]
  },
  {
   "cell_type": "code",
   "execution_count": 20,
   "metadata": {},
   "outputs": [
    {
     "name": "stdout",
     "output_type": "stream",
     "text": [
      "2 down [7 0]\n"
     ]
    }
   ],
   "source": [
    "#1 Testing\n",
    "\n",
    "microbe.turn_right()\n",
    "microbe.turn_right()\n",
    "microbe.turn_right()\n",
    "\n",
    "print(microbe.direction, microbe.direction_name(), microbe.position)"
   ]
  },
  {
   "cell_type": "code",
   "execution_count": 305,
   "metadata": {},
   "outputs": [
    {
     "name": "stdout",
     "output_type": "stream",
     "text": [
      "1 right [9 0]\n"
     ]
    }
   ],
   "source": [
    "#1 Testing\n",
    "\n",
    "microbe.random_turn()\n",
    "microbe.random_turn()\n",
    "microbe.random_turn()\n",
    "\n",
    "print(microbe.direction, microbe.direction_name(), microbe.position)"
   ]
  },
  {
   "cell_type": "code",
   "execution_count": 21,
   "metadata": {},
   "outputs": [
    {
     "name": "stdout",
     "output_type": "stream",
     "text": [
      "True\n"
     ]
    }
   ],
   "source": [
    "#1 Testing\n",
    "\n",
    "microbe = Microbe([9,0], 3)\n",
    "print(microbe.alive)"
   ]
  },
  {
   "cell_type": "code",
   "execution_count": 22,
   "metadata": {},
   "outputs": [
    {
     "name": "stdout",
     "output_type": "stream",
     "text": [
      "False\n"
     ]
    }
   ],
   "source": [
    "#1 Testing\n",
    "\n",
    "microbe.has_been_eaten()\n",
    "print(microbe.alive)"
   ]
  },
  {
   "cell_type": "code",
   "execution_count": 23,
   "metadata": {},
   "outputs": [],
   "source": [
    "#2 Numpy import modification\n",
    "\n",
    "class Microbe():\n",
    "    def direction_name(self):\n",
    "        directions = [\"up\", \"right\", \"down\", \"left\"]\n",
    "        return directions[self.direction]\n",
    "    \n",
    "    def __init__(self, initial_position=[0, 0], initial_direction=0):\n",
    "        import numpy as np\n",
    "        self.position = np.array(initial_position)\n",
    "        self.direction = initial_direction \n",
    "        self.alive = True\n",
    "\n",
    "    def turn_right(self):\n",
    "        self.direction = (self.direction + 1) % 4\n",
    "        \n",
    "    def turn_left(self):\n",
    "        self.direction = (self.direction - 1) % 4\n",
    "\n",
    "    def random_turn(self):\n",
    "        import numpy as np\n",
    "        if np.random.rand() < 0.5:\n",
    "            self.turn_left()\n",
    "        else:\n",
    "            self.turn_right()\n",
    "    def step_foward(self):\n",
    "        if self.direction == 0:\n",
    "            self.position[1] += 1\n",
    "        elif self.direction == 1:\n",
    "            self.position[0] += 1\n",
    "        elif self.direction == 2:\n",
    "            self.position[1] -= 1\n",
    "        elif self.direction == 3:\n",
    "            self.position [0] -= 1\n",
    "        \n",
    "        self.position[0] %= 10 \n",
    "        self.position[1] %= 10  \n",
    "    def move(self):\n",
    "        import numpy as np\n",
    "        if np.random.rand() < 0.5:\n",
    "            self.random_turn()\n",
    "        else:\n",
    "            self.step_foward()\n",
    "    def has_been_eaten(self):\n",
    "        self.alive = False"
   ]
  },
  {
   "cell_type": "markdown",
   "metadata": {},
   "source": [
    "#### Random movement and predation (20 points)\n",
    "\n",
    "To conclude, create now two instances of `Microbe` at two different positions and allow them to randomly move until one stumbles upon the other and eats it.\n",
    "\n",
    "1. Initialize two microbes, `microbe1` and `microbe2`, each starting at a different position on a grid.\n",
    "\n",
    "2. Set up a loop that continues as long as both microbes are \"alive.\"\n",
    "\n",
    "3. In each loop iteration:\n",
    "    \n",
    "    - Move `microbe1`, then check if it occupies the same position as `microbe2`. If they do, this means that `microbe1` has stubled upon `microbe2` and will eat it: mark `microbe2` as \"eaten\" (not alive).\n",
    "    \n",
    "    - If `microbe2` is still alive, move it. Then check if it has stubled upon `microbe1`, by verifying if both microbes occupy the same position. If the positions match, mark `microbe1` as \"eaten.\"\n",
    "\n",
    "1. Count each loop iteration as a step, tracking how many steps it takes until one of the microbes is \"eaten.\"\n",
    "\n",
    "1. After the loop exits, print the alive status of each microbe and the total number of steps taken.\n",
    "\n",
    "    - If your code works properly, one of the microbes is bound to be eaten eventually. Therefore your code should not get stuck.\n",
    "    \n",
    "    - Verify that, at termination, only one of the two microbes is marked as eaten: they cannot both eat each other at the same time."
   ]
  },
  {
   "cell_type": "code",
   "execution_count": 26,
   "metadata": {},
   "outputs": [
    {
     "name": "stdout",
     "output_type": "stream",
     "text": [
      "microbe 1 has been eaten\n",
      "Microbe1 Alive Status: False\n",
      "Microbe2 Alive Status: True\n",
      "Total Steps Taken: 235\n"
     ]
    }
   ],
   "source": [
    "microbe1 = Microbe([9,9])\n",
    "microbe2 = Microbe([1,1])\n",
    "\n",
    "counter = 0\n",
    "while microbe1.alive == True and microbe2.alive == True:\n",
    "    microbe1.move()\n",
    "\n",
    "    if tuple(microbe1.position) == tuple(microbe2.position):\n",
    "        microbe2.has_been_eaten()\n",
    "        print(\"microbe 2 has been eaten\")\n",
    "        break\n",
    "\n",
    "    if microbe2.alive:\n",
    "        microbe2.move()\n",
    "       \n",
    "        if tuple(microbe2.position) == tuple(microbe1.position):\n",
    "            microbe1.has_been_eaten()\n",
    "            print(\"microbe 1 has been eaten\")\n",
    "            break\n",
    "    counter +=1\n",
    "\n",
    "print(\"Microbe1 Alive Status: \"+ str(microbe1.alive))\n",
    "print(\"Microbe2 Alive Status: \"+ str(microbe2.alive))\n",
    "print(\"Total Steps Taken: \"+ str(counter))"
   ]
  },
  {
   "cell_type": "markdown",
   "metadata": {},
   "source": [
    "#### For glory\n",
    "\n",
    "1. Add an illustration to the microbial world.\n",
    "\n",
    "    - A useful graph of this might be a scatterplot.\n",
    "    \n",
    "    - Consider adding a pause (recall the `time` built-in module) at the end of each movement, to be able to see each step.\n",
    "\n",
    "\n",
    "2. Extend your code above to an arbitrary number of microbes. Note that:\n",
    "\n",
    "    - You can create many instances of an object without naming each individually by appending them to a list.\n",
    "\n",
    "    - On a 10x10 grid, you can have at most 100 microbes occupying unique positions at the beginning."
   ]
  },
  {
   "cell_type": "code",
   "execution_count": 32,
   "metadata": {},
   "outputs": [],
   "source": [
    "import matplotlib.pyplot as plt\n",
    "import time"
   ]
  },
  {
   "cell_type": "code",
   "execution_count": 33,
   "metadata": {},
   "outputs": [
    {
     "name": "stdout",
     "output_type": "stream",
     "text": [
      "microbe 2 has been eaten\n",
      "Microbe1 Alive Status: True\n",
      "Microbe2 Alive Status: False\n",
      "Total Steps Taken: 174\n"
     ]
    }
   ],
   "source": [
    "microbe1 = Microbe([9,9])\n",
    "microbe2 = Microbe([1,1])\n",
    "\n",
    "counter = 0\n",
    "microbe1_path = []\n",
    "microbe2_path = []\n",
    "\n",
    "while microbe1.alive == True and microbe2.alive == True:\n",
    "    microbe1.move()\n",
    "    microbe1_path.append(tuple(microbe1.position))\n",
    "    #print(\"microbe 1 is at\" + str(microbe1.position))\n",
    "    \n",
    "    if tuple(microbe1.position) == tuple(microbe2.position):\n",
    "        microbe2.has_been_eaten()\n",
    "        print(\"microbe 2 has been eaten\")\n",
    "        break\n",
    "\n",
    "    if microbe2.alive:\n",
    "        microbe2.move()\n",
    "        microbe2_path.append(tuple(microbe2.position))\n",
    "        #print(\"microbe 2 is at\" + str(microbe2.position))\n",
    "       \n",
    "        if tuple(microbe2.position) == tuple(microbe1.position):\n",
    "            microbe1.has_been_eaten()\n",
    "            print(\"microbe 1 has been eaten\")\n",
    "            break\n",
    "    counter +=1\n",
    "\n",
    "print(\"Microbe1 Alive Status: \"+ str(microbe1.alive))\n",
    "print(\"Microbe2 Alive Status: \"+ str(microbe2.alive))\n",
    "print(\"Total Steps Taken: \"+ str(counter))"
   ]
  },
  {
   "cell_type": "code",
   "execution_count": 34,
   "metadata": {},
   "outputs": [
    {
     "data": {
      "image/png": "[encoded data removed]",
      "text/plain": [
       "<Figure size 640x480 with 1 Axes>"
      ]
     },
     "metadata": {},
     "output_type": "display_data"
    }
   ],
   "source": [
    "#path:\n",
    "microbe1_x = [position[0] for position in microbe1_path]\n",
    "microbe1_y = [position[1] for position in microbe1_path]\n",
    "\n",
    "microbe2_x = [position[0] for position in microbe2_path]\n",
    "microbe2_y = [position[1] for position in microbe2_path]\n",
    "\n",
    "plt.plot(microbe1_x, microbe1_y, '--', label=\"Microbe 1 Path\")\n",
    "plt.plot(microbe2_x, microbe2_y, '--', label=\"Microbe 2 Path\")\n",
    "\n",
    "#final position:\n",
    "plt.scatter(microbe1_x[-1], microbe1_y[-1], label=\"Microbe 1 Final Position\") \n",
    "plt.scatter(microbe2_x[-1], microbe2_y[-1], label=\"Microbe 2 Final Position\") \n",
    "\n",
    "plt.xlim(-1, 10)\n",
    "plt.ylim(-1, 10)\n",
    "plt.legend()\n",
    "plt.show()"
   ]
  },
  {
   "cell_type": "code",
   "execution_count": 35,
   "metadata": {},
   "outputs": [],
   "source": [
    "#2\n",
    "import random\n",
    "num_microbes = 4\n",
    "\n",
    "# Initialize microbes with random starting positions\n",
    "microbes = [Microbe([random.randint(0, 9), random.randint(0, 9)]) for i in range(num_microbes)]"
   ]
  },
  {
   "cell_type": "code",
   "execution_count": 36,
   "metadata": {},
   "outputs": [
    {
     "name": "stdout",
     "output_type": "stream",
     "text": [
      "[array([0, 3]), array([9, 2]), array([5, 0]), array([7, 7])]\n"
     ]
    }
   ],
   "source": [
    "print(list(microbe.position for microbe in microbes))"
   ]
  },
  {
   "cell_type": "code",
   "execution_count": 37,
   "metadata": {},
   "outputs": [
    {
     "name": "stdout",
     "output_type": "stream",
     "text": [
      "Microbe 0 has been eaten by Microbe 2\n",
      "Microbe 2 has been eaten by Microbe 1\n",
      "Simulation completed.\n",
      "Total Steps Taken: 287\n"
     ]
    }
   ],
   "source": [
    "num_microbes = 3\n",
    "\n",
    "microbes = [Microbe([random.randint(0, 9), random.randint(0, 9)]) for i in range(num_microbes)]\n",
    "\n",
    "microbe_paths = [[] for _ in range(num_microbes)]\n",
    "\n",
    "counter = 0\n",
    "while sum(microbe.alive for microbe in microbes) > 1:\n",
    "    for microbe in microbes:\n",
    "        if microbe.alive:\n",
    "            microbe.move()\n",
    "            microbe_paths[microbes.index(microbe)].append(tuple(microbe.position)) \n",
    "            \n",
    "            for other_microbe in microbes:\n",
    "                if other_microbe != microbe and other_microbe.alive and tuple(microbe.position) == tuple(other_microbe.position):\n",
    "                    other_microbe.has_been_eaten()\n",
    "                    print(\"Microbe \" + str(microbes.index(other_microbe)) + \" has been eaten by Microbe \" + str(microbes.index(microbe)))\n",
    "                    break \n",
    "    counter += 1\n",
    "\n",
    "\n",
    "print(\"Simulation completed.\")\n",
    "print(\"Total Steps Taken: \"+ str(counter))"
   ]
  },
  {
   "cell_type": "code",
   "execution_count": 38,
   "metadata": {},
   "outputs": [
    {
     "data": {
      "image/png": "[encoded data removed]",
      "text/plain": [
       "<Figure size 640x480 with 1 Axes>"
      ]
     },
     "metadata": {},
     "output_type": "display_data"
    }
   ],
   "source": [
    "for i, path in enumerate(microbe_paths):\n",
    "    \n",
    "    microbe_x = [position[0] for position in path]\n",
    "    microbe_y = [position[1] for position in path]\n",
    "\n",
    "    plt.plot(microbe_x, microbe_y, '--', label= \"Microbe \"+ str(i) + \" Path\")\n",
    "    if microbes[i].alive:\n",
    "        plt.scatter(microbe_x[-1], microbe_y[-1], label= \"Microbe \"+ str(i)+ \" Final Position\")\n",
    "\n",
    "plt.xlim(-1, 10)\n",
    "plt.ylim(-1, 10)\n",
    "plt.legend(loc=4)\n",
    "plt.show()"
   ]
  },
  {
   "cell_type": "code",
   "execution_count": 39,
   "metadata": {},
   "outputs": [],
   "source": [
    "# class for a bigger field\n",
    "class MicrobeBig():\n",
    "    def direction_name(self):\n",
    "        directions = [\"up\", \"right\", \"down\", \"left\"]\n",
    "        return directions[self.direction]\n",
    "    \n",
    "    def __init__(self, initial_position=[0, 0], initial_direction=0):\n",
    "        import numpy as np\n",
    "        self.position = np.array(initial_position)\n",
    "        self.direction = initial_direction \n",
    "        self.alive = True\n",
    "\n",
    "    def turn_right(self):\n",
    "        self.direction = (self.direction + 1) % 4\n",
    "        \n",
    "    def turn_left(self):\n",
    "        self.direction = (self.direction - 1) % 4\n",
    "\n",
    "    def random_turn(self):\n",
    "        import numpy as np\n",
    "        if np.random.rand() < 0.5:\n",
    "            self.turn_left()\n",
    "        else:\n",
    "            self.turn_right()\n",
    "    def step_foward(self):\n",
    "        if self.direction == 0:\n",
    "            self.position[1] += 1\n",
    "        elif self.direction == 1:\n",
    "            self.position[0] += 1\n",
    "        elif self.direction == 2:\n",
    "            self.position[1] -= 1\n",
    "        elif self.direction == 3:\n",
    "            self.position [0] -= 1\n",
    "        \n",
    "        self.position[0] %= 50 \n",
    "        self.position[1] %= 50  \n",
    "    def move(self):\n",
    "        import numpy as np\n",
    "        if np.random.rand() < 0.5:\n",
    "            self.random_turn()\n",
    "        else:\n",
    "            self.step_foward()\n",
    "    def has_been_eaten(self):\n",
    "        self.alive = False"
   ]
  },
  {
   "cell_type": "code",
   "execution_count": 40,
   "metadata": {},
   "outputs": [
    {
     "name": "stdout",
     "output_type": "stream",
     "text": [
      "[array([31,  2]), array([26, 40])]\n",
      "Microbe 1 has been eaten by Microbe 0\n",
      "Simulation completed.\n",
      "Total Steps Taken: 1658\n"
     ]
    }
   ],
   "source": [
    "num_microbes = 2\n",
    "\n",
    "# Initialize microbes with random starting positions\n",
    "microbes = [MicrobeBig([random.randint(0, 50), random.randint(0, 50)]) for i in range(num_microbes)]\n",
    "print(list(microbe.position for microbe in microbes))\n",
    "microbe_paths = [[] for _ in range(num_microbes)]\n",
    "\n",
    "counter = 0\n",
    "while sum(microbe.alive for microbe in microbes) > 1:\n",
    "    for microbe in microbes:\n",
    "        if microbe.alive:\n",
    "            microbe.move()\n",
    "            microbe_paths[microbes.index(microbe)].append(tuple(microbe.position)) \n",
    "            \n",
    "            for other_microbe in microbes:\n",
    "                if other_microbe != microbe and other_microbe.alive and tuple(microbe.position) == tuple(other_microbe.position):\n",
    "                    other_microbe.has_been_eaten()\n",
    "                    print(\"Microbe \" + str(microbes.index(other_microbe)) + \" has been eaten by Microbe \" + str(microbes.index(microbe)))\n",
    "                    break \n",
    "    counter += 1\n",
    "\n",
    "\n",
    "print(\"Simulation completed.\")\n",
    "print(\"Total Steps Taken: \"+ str(counter))"
   ]
  },
  {
   "cell_type": "code",
   "execution_count": 41,
   "metadata": {},
   "outputs": [
    {
     "data": {
      "image/png": "[encoded data removed]",
      "text/plain": [
       "<Figure size 640x480 with 1 Axes>"
      ]
     },
     "metadata": {},
     "output_type": "display_data"
    }
   ],
   "source": [
    "for i, path in enumerate(microbe_paths):\n",
    "    # Extract x and y coordinates for the current microbe\n",
    "    microbe_x = [position[0] for position in path]\n",
    "    microbe_y = [position[1] for position in path]\n",
    "\n",
    "    # Plot the path as a dotted line\n",
    "    plt.plot(microbe_x, microbe_y, '--', label= \"Microbe \"+ str(i) + \" Path\")\n",
    "    \n",
    "    # Mark the final position of the microbe, if it's still alive\n",
    "    if microbes[i].alive:\n",
    "        plt.scatter(microbe_x[-1], microbe_y[-1], label= \"Microbe \"+ str(i)+ \" Final Position\", s=100)\n",
    "\n",
    "# Set plot limits and display the legend\n",
    "plt.xlim(-1, 51)\n",
    "plt.ylim(-1, 51)\n",
    "plt.legend(loc=4)\n",
    "plt.show()"
   ]
  }
 ],
 "metadata": {
  "kernelspec": {
   "display_name": "Python 3",
   "language": "python",
   "name": "python3"
  },
  "language_info": {
   "codemirror_mode": {
    "name": "ipython",
    "version": 3
   },
   "file_extension": ".py",
   "mimetype": "text/x-python",
   "name": "python",
   "nbconvert_exporter": "python",
   "pygments_lexer": "ipython3",
   "version": "3.9.6"
  }
 },
 "nbformat": 4,
 "nbformat_minor": 2
}
