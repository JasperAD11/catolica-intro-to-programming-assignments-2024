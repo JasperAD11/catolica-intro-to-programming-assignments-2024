{
 "cells": [
  {
   "cell_type": "markdown",
   "metadata": {},
   "source": [
    "# Introduction to Programming\n",
    "## Assignment 3: numpy, matplotlib, pandas\n",
    "\n",
    "- [Instructions](#instructions)\n",
    "\n",
    "- [Data wrangling](#dw)\n"
   ]
  },
  {
   "cell_type": "markdown",
   "metadata": {},
   "source": [
    "<a id=\"instructions\"></a>\n",
    "### Instructions\n",
    "\n",
    "This assignment contributes 10% on your final grade. \n",
    "It is significantly shorter (and easier) than the previous.\n",
    "\n",
    "Solve the exercises below. \n",
    "You may use any programming concepts covered in class, including the extension Data Wrangler. \n",
    "Remember to test your outputs, i.e. re-check the data, after each modification.\n",
    "\n",
    "In case of a doubt in the instructions of the exercises, **ask in class**: if you have a doubt, you are probably not the only one: it is fair to clarify it for everyone.\n",
    "Return your work by uploading it to Moodle. \n",
    "\n",
    "I hope you enjoy these exercises.\n",
    "\n",
    "---"
   ]
  },
  {
   "cell_type": "markdown",
   "metadata": {},
   "source": [
    "<a id = \"dw\"></a>\n",
    "\n",
    "### Data wrangling"
   ]
  },
  {
   "cell_type": "markdown",
   "metadata": {},
   "source": [
    "You are provided 4 sources of data, named wrangling-part1 to wrangling-part4.\n",
    "These sources are meant to compose a single dataframe with columns `y`, `x1`, and `x2`, and with index values from 0 to 19. The index values have name `n`.\n",
    "Each source is somewhat messy, and you will have to fix the problems at import or just after import.\n",
    "\n",
    "Perform the following activities:"
   ]
  },
  {
   "cell_type": "markdown",
   "metadata": {},
   "source": [
    "1. Import all the datasets.\n",
    "\n",
    "    - Import the data in each of the sources, fixing the problems at hand.\n",
    "\n",
    "    - A properly imported dataset must have the correct column names, index values, identified missing values, etc.\n",
    "\n",
    "2. Put all 4 datasets together in a single dataframe with 20 rows and 3 columns. \n",
    "\n",
    "    - Avoid the emergence of new missing values as you do so: preserve your data basically.\n",
    "\n",
    "3. Check data types. \n",
    "    \n",
    "    - If you have done everything correctly up until this point, all data should be numeric.\n",
    "    \n",
    "    - If types are not numeric, change the type to float. \n",
    "\n",
    "4. Show summary statistics for the data.\n",
    "\n",
    "5. Change index values from 0-19 to 1-20.\n",
    "\n",
    "6. Fill in the missing values. \n",
    "\n",
    "    - Start by filling `x1` and `x2` respectively with the median and the mean of the available values in each column. \n",
    "    \n",
    "    - Then compute `y_hat` as the dot product of `X` and a vector `[.5, -1.2]`, where `X` is the matrix with `x1` and `x2` as columns. Fill the missing values in `y` with the values of `y_hat`.\n",
    "\n",
    "7. Create 2 new columns, `x1sq` and `x2sq`, containing the squared (power 2) values of `x1` and `x2` respectively.\n",
    "\n",
    "8. Save this cleaned and completed dataset as an excel with a single sheet. \n",
    "\n",
    "    - Save it using a writer.\n",
    "\n",
    "    - Do not include the index in the saved table."
   ]
  },
  {
   "cell_type": "code",
   "execution_count": null,
   "metadata": {
    "vscode": {
     "languageId": "plaintext"
    }
   },
   "outputs": [],
   "source": []
  }
 ],
 "metadata": {
  "language_info": {
   "name": "python"
  }
 },
 "nbformat": 4,
 "nbformat_minor": 2
}
